{
  "nbformat": 4,
  "nbformat_minor": 0,
  "metadata": {
    "colab": {
      "provenance": [],
      "authorship_tag": "ABX9TyN22/w4wPJYxyWY9PVoDEQJ",
      "include_colab_link": true
    },
    "kernelspec": {
      "name": "python3",
      "display_name": "Python 3"
    },
    "language_info": {
      "name": "python"
    }
  },
  "cells": [
    {
      "cell_type": "markdown",
      "metadata": {
        "id": "view-in-github",
        "colab_type": "text"
      },
      "source": [
        "<a href=\"https://colab.research.google.com/github/ahammedtechi/BIG-DATA-ANALYSIS/blob/main/BIG_DATA_ANALYSIS.ipynb\" target=\"_parent\"><img src=\"https://colab.research.google.com/assets/colab-badge.svg\" alt=\"Open In Colab\"/></a>"
      ]
    },
    {
      "cell_type": "code",
      "source": [
        "# Install Java and PySpark only\n",
        "!apt-get install openjdk-11-jdk-headless -qq > /dev/null\n",
        "!pip install -q pyspark"
      ],
      "metadata": {
        "id": "HY6en6INkkvv"
      },
      "execution_count": 12,
      "outputs": []
    },
    {
      "cell_type": "code",
      "source": [
        "import os\n",
        "from pyspark.sql import SparkSession\n",
        "\n",
        "# Set JAVA_HOME (required for PySpark)\n",
        "os.environ[\"JAVA_HOME\"] = \"/usr/lib/jvm/java-11-openjdk-amd64\"\n",
        "\n",
        "# Initialize SparkSession\n",
        "spark = SparkSession.builder \\\n",
        "    .appName(\"CODTECH-BigDataAnalysis\") \\\n",
        "    .getOrCreate()\n",
        "\n",
        "# Confirm Spark is running\n",
        "spark"
      ],
      "metadata": {
        "colab": {
          "base_uri": "https://localhost:8080/",
          "height": 219
        },
        "id": "FYMbwelHkzEo",
        "outputId": "aed9ef87-ee2d-4ee3-c03c-1a31a81391d6"
      },
      "execution_count": 4,
      "outputs": [
        {
          "output_type": "execute_result",
          "data": {
            "text/plain": [
              "<pyspark.sql.session.SparkSession at 0x7fdc10700f90>"
            ],
            "text/html": [
              "\n",
              "            <div>\n",
              "                <p><b>SparkSession - in-memory</b></p>\n",
              "                \n",
              "        <div>\n",
              "            <p><b>SparkContext</b></p>\n",
              "\n",
              "            <p><a href=\"http://82acc630a74c:4040\">Spark UI</a></p>\n",
              "\n",
              "            <dl>\n",
              "              <dt>Version</dt>\n",
              "                <dd><code>v3.5.1</code></dd>\n",
              "              <dt>Master</dt>\n",
              "                <dd><code>local[*]</code></dd>\n",
              "              <dt>AppName</dt>\n",
              "                <dd><code>CODTECH-BigDataAnalysis</code></dd>\n",
              "            </dl>\n",
              "        </div>\n",
              "        \n",
              "            </div>\n",
              "        "
            ]
          },
          "metadata": {},
          "execution_count": 4
        }
      ]
    },
    {
      "cell_type": "code",
      "source": [
        "# Download the CSV locally\n",
        "!wget -O flights.csv \"https://people.sc.fsu.edu/~jburkardt/data/csv/airtravel.csv\"\n"
      ],
      "metadata": {
        "colab": {
          "base_uri": "https://localhost:8080/"
        },
        "id": "boLI-yFHk6JA",
        "outputId": "301728b2-8b80-44ca-beed-b974447644c2"
      },
      "execution_count": 5,
      "outputs": [
        {
          "output_type": "stream",
          "name": "stdout",
          "text": [
            "--2025-07-13 16:17:47--  https://people.sc.fsu.edu/~jburkardt/data/csv/airtravel.csv\n",
            "Resolving people.sc.fsu.edu (people.sc.fsu.edu)... 144.174.0.22\n",
            "Connecting to people.sc.fsu.edu (people.sc.fsu.edu)|144.174.0.22|:443... connected.\n",
            "HTTP request sent, awaiting response... 200 OK\n",
            "Length: 321 [text/csv]\n",
            "Saving to: ‘flights.csv’\n",
            "\n",
            "flights.csv         100%[===================>]     321  --.-KB/s    in 0s      \n",
            "\n",
            "2025-07-13 16:17:47 (159 MB/s) - ‘flights.csv’ saved [321/321]\n",
            "\n"
          ]
        }
      ]
    },
    {
      "cell_type": "code",
      "source": [
        "# Load the downloaded file using Spark\n",
        "df = spark.read.csv(\"flights.csv\", header=True, inferSchema=True)\n",
        "\n",
        "# Show data\n",
        "df.show(5)\n",
        "df.printSchema()"
      ],
      "metadata": {
        "colab": {
          "base_uri": "https://localhost:8080/"
        },
        "id": "c-kAyPdMlCAc",
        "outputId": "ac92fac8-12a3-4222-bdef-db096b1facb1"
      },
      "execution_count": 6,
      "outputs": [
        {
          "output_type": "stream",
          "name": "stdout",
          "text": [
            "+-----+-------+-------+-------+\n",
            "|Month| \"1958\"| \"1959\"| \"1960\"|\n",
            "+-----+-------+-------+-------+\n",
            "|  JAN|  340.0|  360.0|  417.0|\n",
            "|  FEB|  318.0|  342.0|  391.0|\n",
            "|  MAR|  362.0|  406.0|  419.0|\n",
            "|  APR|  348.0|  396.0|  461.0|\n",
            "|  MAY|  363.0|  420.0|  472.0|\n",
            "+-----+-------+-------+-------+\n",
            "only showing top 5 rows\n",
            "\n",
            "root\n",
            " |-- Month: string (nullable = true)\n",
            " |--  \"1958\": double (nullable = true)\n",
            " |--  \"1959\": double (nullable = true)\n",
            " |--  \"1960\": double (nullable = true)\n",
            "\n"
          ]
        }
      ]
    },
    {
      "cell_type": "code",
      "source": [
        "# Show column names\n",
        "df.columns\n",
        "\n",
        "# Print schema (data types)\n",
        "df.printSchema()\n",
        "\n",
        "# Basic row count\n",
        "print(\"✅ Total Records:\", df.count())"
      ],
      "metadata": {
        "colab": {
          "base_uri": "https://localhost:8080/"
        },
        "id": "j0N9BKEjlIza",
        "outputId": "db8a3a9a-59fc-4160-a543-6c345bf03eef"
      },
      "execution_count": 7,
      "outputs": [
        {
          "output_type": "stream",
          "name": "stdout",
          "text": [
            "root\n",
            " |-- Month: string (nullable = true)\n",
            " |--  \"1958\": double (nullable = true)\n",
            " |--  \"1959\": double (nullable = true)\n",
            " |--  \"1960\": double (nullable = true)\n",
            "\n",
            "✅ Total Records: 12\n"
          ]
        }
      ]
    },
    {
      "cell_type": "code",
      "source": [
        "# Rename columns to remove quotes and make them Spark-safe\n",
        "df = df.withColumnRenamed(\" \\\"1958\\\"\", \"1958\") \\\n",
        "       .withColumnRenamed(\" \\\"1959\\\"\", \"1959\") \\\n",
        "       .withColumnRenamed(\" \\\"1960\\\"\", \"1960\")"
      ],
      "metadata": {
        "id": "es8b5FsglPKl"
      },
      "execution_count": 8,
      "outputs": []
    },
    {
      "cell_type": "code",
      "source": [
        "from pyspark.sql.functions import col, lit\n",
        "\n",
        "# Create individual year DataFrames and union them\n",
        "df_1958 = df.select(col(\"Month\"), col(\"1958\").alias(\"Passengers\")).withColumn(\"Year\", lit(1958))\n",
        "df_1959 = df.select(col(\"Month\"), col(\"1959\").alias(\"Passengers\")).withColumn(\"Year\", lit(1959))\n",
        "df_1960 = df.select(col(\"Month\"), col(\"1960\").alias(\"Passengers\")).withColumn(\"Year\", lit(1960))\n",
        "\n",
        "# Union all\n",
        "df_long = df_1958.union(df_1959).union(df_1960)\n",
        "\n",
        "# Show sample\n",
        "df_long.show(5)"
      ],
      "metadata": {
        "colab": {
          "base_uri": "https://localhost:8080/"
        },
        "id": "4PI5mVo-lSp6",
        "outputId": "271bd838-44b7-4642-e042-b5468eb592b4"
      },
      "execution_count": 9,
      "outputs": [
        {
          "output_type": "stream",
          "name": "stdout",
          "text": [
            "+-----+----------+----+\n",
            "|Month|Passengers|Year|\n",
            "+-----+----------+----+\n",
            "|  JAN|     340.0|1958|\n",
            "|  FEB|     318.0|1958|\n",
            "|  MAR|     362.0|1958|\n",
            "|  APR|     348.0|1958|\n",
            "|  MAY|     363.0|1958|\n",
            "+-----+----------+----+\n",
            "only showing top 5 rows\n",
            "\n"
          ]
        }
      ]
    },
    {
      "cell_type": "code",
      "source": [
        "df_long.groupBy(\"Year\").sum(\"Passengers\").withColumnRenamed(\"sum(Passengers)\", \"Total_Passengers\").show()"
      ],
      "metadata": {
        "colab": {
          "base_uri": "https://localhost:8080/"
        },
        "id": "bcD68JFtlUnx",
        "outputId": "443977f8-fa40-4c95-aa0d-eea1f1b417ff"
      },
      "execution_count": 10,
      "outputs": [
        {
          "output_type": "stream",
          "name": "stdout",
          "text": [
            "+----+----------------+\n",
            "|Year|Total_Passengers|\n",
            "+----+----------------+\n",
            "|1958|          4572.0|\n",
            "|1959|          5140.0|\n",
            "|1960|          5714.0|\n",
            "+----+----------------+\n",
            "\n"
          ]
        }
      ]
    },
    {
      "cell_type": "code",
      "source": [
        "df_long.groupBy(\"Month\").avg(\"Passengers\").withColumnRenamed(\"avg(Passengers)\", \"Average_Passengers\").show()"
      ],
      "metadata": {
        "colab": {
          "base_uri": "https://localhost:8080/"
        },
        "id": "za-DlF9_lcT4",
        "outputId": "279c4f5d-e9b7-45f8-bb45-1252db338653"
      },
      "execution_count": 11,
      "outputs": [
        {
          "output_type": "stream",
          "name": "stdout",
          "text": [
            "+-----+------------------+\n",
            "|Month|Average_Passengers|\n",
            "+-----+------------------+\n",
            "|  APR| 401.6666666666667|\n",
            "|  OCT|             409.0|\n",
            "|  NOV|             354.0|\n",
            "|  FEB| 350.3333333333333|\n",
            "|  SEP| 458.3333333333333|\n",
            "|  JAN| 372.3333333333333|\n",
            "|  AUG| 556.6666666666666|\n",
            "|  MAR| 395.6666666666667|\n",
            "|  DEC| 391.3333333333333|\n",
            "|  JUN| 480.6666666666667|\n",
            "|  JUL| 553.6666666666666|\n",
            "|  MAY| 418.3333333333333|\n",
            "+-----+------------------+\n",
            "\n"
          ]
        }
      ]
    }
  ]
}